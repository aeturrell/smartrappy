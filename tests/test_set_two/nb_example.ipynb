{
 "cells": [
  {
   "cell_type": "markdown",
   "id": "3fb05507",
   "metadata": {},
   "source": [
    "This is a markdown cell."
   ]
  },
  {
   "cell_type": "code",
   "execution_count": null,
   "id": "af374a24",
   "metadata": {},
   "outputs": [],
   "source": [
    "from pathlib import Path\n",
    "\n",
    "import pandas as pd\n",
    "\n",
    "df = pd.read_csv(Path(\"data/input.csv\"))"
   ]
  },
  {
   "cell_type": "code",
   "execution_count": null,
   "id": "dc383f23",
   "metadata": {},
   "outputs": [],
   "source": [
    "with open(Path(\"alternative_equation.tex\"), \"w\") as f:\n",
    "    f.write(\n",
    "        \"$${\\displaystyle {\\frac {\\partial f_{\\alpha }}{\\partial t}}+\\mathbf {v} _{\\alpha }\\cdot {\\frac {\\partial f_{\\alpha }}{\\partial \\mathbf {x} }}+{\\frac {q_{\\alpha }\\mathbf {E} }{m_{\\alpha }}}\\cdot {\\frac {\\partial f_{\\alpha }}{\\partial \\mathbf {v} }}=0,}$$\"\n",
    "    )\n",
    "f.close()"
   ]
  }
 ],
 "metadata": {
  "kernelspec": {
   "display_name": ".venv",
   "language": "python",
   "name": "python3"
  },
  "language_info": {
   "codemirror_mode": {
    "name": "ipython",
    "version": 3
   },
   "file_extension": ".py",
   "mimetype": "text/x-python",
   "name": "python",
   "nbconvert_exporter": "python",
   "pygments_lexer": "ipython3",
   "version": "3.12.0"
  }
 },
 "nbformat": 4,
 "nbformat_minor": 5
}
