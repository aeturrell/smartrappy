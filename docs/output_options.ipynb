{
 "cells": [
  {
   "cell_type": "markdown",
   "metadata": {},
   "source": [
    "---\n",
    "title: Other output options\n",
    "execute:\n",
    "  echo: false\n",
    "---\n"
   ]
  },
  {
   "cell_type": "markdown",
   "metadata": {},
   "source": [
    "## Graphviz\n",
    "\n",
    "```bash\n",
    "uv run smartrappy . --internal --format=graphviz\n",
    "```\n"
   ]
  },
  {
   "cell_type": "markdown",
   "metadata": {},
   "source": [
    "![](output.svg)"
   ]
  },
  {
   "cell_type": "markdown",
   "metadata": {},
   "source": [
    "## Mermaid\n",
    "\n",
    "```bash\n",
    "uv run smartrappy . --internal --format=mermaid\n",
    "```"
   ]
  },
  {
   "cell_type": "markdown",
   "metadata": {},
   "source": [
    "```{mermaid}\n",
    "graph TD\n",
    "    %% Style definitions\n",
    "    classDef scriptNode fill:#90EE90,stroke:#333,stroke-width:2px;\n",
    "    classDef fileNode fill:#FFB6C1,stroke:#333,stroke-width:2px;\n",
    "    classDef quartoNode fill:#00CED1,stroke:#333,stroke-width:2px;\n",
    "    classDef notebookNode fill:#FFD700,stroke:#333,stroke-width:2px;\n",
    "    classDef missingFile fill:#FFB6C1,stroke:#FF0000,stroke-width:3px,stroke-dasharray: 5 5;\n",
    "    classDef internalModule fill:#ADD8E6,stroke:#333,stroke-width:2px;\n",
    "    classDef externalModule fill:#FFA07A,stroke:#333,stroke-width:2px;\n",
    "    classDef importedItem fill:#ADD8E6,stroke:#333,stroke-width:2px,shape:circle;\n",
    "    classDef externalImportedItem fill:#FFA07A,stroke:#333,stroke-width:2px,shape:circle;\n",
    "    classDef databaseNode fill:#B19CD9,stroke:#333,stroke-width:2px,shape:cylinder;\n",
    "\n",
    "    %% Nodes\n",
    "    quarto_document_13558783[\"slides.qmd\"]:::quartoNode\n",
    "    data_file_14384327[\"output.png<br/><small>File does not exist</small>\"]:::missingFile\n",
    "    data_file_7682433[\"equation.tex<br/><small>File does not exist</small>\"]:::missingFile\n",
    "    data_file_5741772[\"alternative_equation.tex<br/><small>File does not exist</small>\"]:::missingFile\n",
    "    jupyter_notebook_2961208[\"nb_example.ipynb\"]:::notebookNode\n",
    "    data_file_1692456[\"data/input.csv<br/><small>Modified: 2025-04-20 17:31:30</small>\"]:::fileNode\n",
    "    script_5034441[\"model_solver.py\"]:::scriptNode\n",
    "    script_10331269[\"visualisation.py\"]:::scriptNode\n",
    "    data_file_9084974[\"data/processed.csv<br/><small>File does not exist</small>\"]:::missingFile\n",
    "    script_3375286[\"data_processing.py\"]:::scriptNode\n",
    "    database_3520401[\"mydatabase<br/><small>Type: mssql</small>\"]:::databaseNode\n",
    "    internal_module_3617581((\"data_processing:process_data\")):::importedItem\n",
    "\n",
    "    %% Relationships\n",
    "    data_file_14384327 --> quarto_document_13558783\n",
    "    data_file_7682433 --> quarto_document_13558783\n",
    "    data_file_5741772 --> quarto_document_13558783\n",
    "    data_file_1692456 --> jupyter_notebook_2961208\n",
    "    jupyter_notebook_2961208 --> data_file_5741772\n",
    "    script_5034441 --> data_file_7682433\n",
    "    script_10331269 --> data_file_14384327\n",
    "    data_file_9084974 --> script_10331269\n",
    "    script_3375286 --> data_file_9084974\n",
    "    data_file_1692456 --> script_3375286\n",
    "    database_3520401 --> script_3375286\n",
    "    script_3375286 --> database_3520401\n",
    "    internal_module_3617581 --> script_10331269\n",
    "```\n"
   ]
  }
 ],
 "metadata": {
  "kernelspec": {
   "display_name": ".venv",
   "language": "python",
   "name": "python3"
  },
  "language_info": {
   "codemirror_mode": {
    "name": "ipython",
    "version": 3
   },
   "file_extension": ".py",
   "mimetype": "text/x-python",
   "name": "python",
   "nbconvert_exporter": "python",
   "pygments_lexer": "ipython3",
   "version": "3.12.0"
  }
 },
 "nbformat": 4,
 "nbformat_minor": 4
}
