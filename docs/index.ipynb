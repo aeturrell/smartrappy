{
 "cells": [
  {
   "cell_type": "markdown",
   "metadata": {},
   "source": [
    "---\n",
    "execute:\n",
    "  echo: false\n",
    "---\n",
    "\n",
    "# smartrappy\n",
    "\n",
    "Smart reproducible analytical pipeline inspection.\n",
    "\n",
    "![SVG logo of smartrappy](logo.svg){width=40%}"
   ]
  },
  {
   "cell_type": "markdown",
   "metadata": {},
   "source": [
    "[![PyPI](https://img.shields.io/pypi/v/smartrappy.svg)](https://pypi.org/project/smartrappy/)\n",
    "[![Status](https://img.shields.io/pypi/status/smartrappy.svg)](https://pypi.org/project/smartrappy/)\n",
    "[![Python Version](https://img.shields.io/pypi/pyversions/smartrappy)](https://pypi.org/project/smartrappy)\n",
    "[![License](https://img.shields.io/pypi/l/smartrappy)](https://opensource.org/licenses/MIT)\n",
    "[![Read the documentation at https://aeturrell.github.io/smartrappy/](https://img.shields.io/badge/docs-passing-brightgreen)](https://aeturrell.github.io/smartrappy/)\n",
    "[![Tests](https://github.com/aeturrell/smartrappy/workflows/Tests/badge.svg)](https://github.com/aeturrell/smartrappy/actions?workflow=Tests)\n",
    "[![Codecov](https://codecov.io/gh/aeturrell/smartrappy/branch/main/graph/badge.svg)](https://codecov.io/gh/aeturrell/smartrappy)\n",
    "[![pre-commit](https://img.shields.io/badge/pre--commit-enabled-brightgreen?logo=pre-commit&logoColor=white)](https://github.com/pre-commit/pre-commit)\n",
    "[![Ruff](https://img.shields.io/endpoint?url=https://raw.githubusercontent.com/astral-sh/ruff/main/assets/badge/v2.json)](https://github.com/astral-sh/ruff)\n",
    "[![Downloads](https://static.pepy.tech/badge/smartrappy)](https://pepy.tech/project/smartrappy)\n",
    "[![Source](https://img.shields.io/badge/source%20code-github-lightgrey?style=for-the-badge)](https://github.com/aeturrell/smartrappy)\n",
    "\n",
    "![Linux](https://img.shields.io/badge/Linux-FCC624?style=for-the-badge&logo=linux&logoColor=black)\n",
    "![macOS](https://img.shields.io/badge/mac%20os-000000?style=for-the-badge&logo=macos&logoColor=F0F0F0)\n",
    "![Windows](https://img.shields.io/badge/Windows-0078D6?style=for-the-badge&logo=windows&logoColor=white)\n",
    "\n"
   ]
  },
  {
   "cell_type": "markdown",
   "metadata": {},
   "source": [
    "## Introduction\n",
    "\n",
    "### What does this package do?\n",
    "\n",
    "**smartrappy** analyses a Python project and infers the directed acyclic graph (DAG) of the code and data dependencies, including the last time any data were refreshed and whether the data exist at all on disk. It is not perfect, and will miss a lot in complex projects: but for simple projects using, say, `pd.read_csv()`, it does a good job of inferring the steps. It can also infer writing to and from most databases. The inferred DAG is then visualised, and there are several options for doing that—the default being to produce a visualisation in the terminal.\n",
    "\n",
    "### What is **smartrappy** for?\n",
    "\n",
    "**smartrappy** is designed to help you understand the dependencies in a project, especially in a context where there may be a lot of legacy code that resembles tangled spaghetti.\n",
    "\n",
    "### Quickstart\n",
    "\n",
    "To use **smartrappy** as a command-line tool:\n",
    "\n",
    "```bash\n",
    "smartrappy /path/to/your/project\n",
    "```\n",
    "\n",
    "Or to use it within a Python script:\n",
    "\n",
    "```python\n",
    "from smartrappy import analyse_project\n",
    "from smartrappy.reporters import ConsoleReporter\n",
    "\n",
    "\n",
    "model = analyse_project(\"/path/to/your/project\")\n",
    "reporter = ConsoleReporter()\n",
    "reporter.generate_report(model)\n",
    "```\n",
    "\n",
    "### Installation\n",
    "\n",
    "To install **smartrappy**, you can use `pip install smartrappy` or `uv add smartrappy` if you are using [Astral's uv](https://docs.astral.sh/uv/). You can also use it as a standalone command-line tool with uv and the `uvx` command:\n",
    "\n",
    "```bash\n",
    "uvx smartrappy path/to/your/project\n",
    "```\n",
    "\n",
    "### Documentation\n",
    "\n",
    "You can find the full documentation for **smartrappy** at [https://aeturrell.github.io/smartrappy/](https://aeturrell.github.io/smartrappy/)."
   ]
  },
  {
   "cell_type": "markdown",
   "metadata": {},
   "source": [
    "## Example of output\n",
    "\n",
    "```bash\n",
    "smartrappy .\n",
    "```"
   ]
  },
  {
   "cell_type": "code",
   "execution_count": null,
   "metadata": {},
   "outputs": [],
   "source": [
    "! uv run smartrappy ../tests/test_set_two"
   ]
  },
  {
   "cell_type": "markdown",
   "metadata": {},
   "source": [
    "The graphviz and mermaid options are equally as aesthetically pleasing! [Head to the docs](https://aeturrell.github.io/smartrappy/reference/output_options.html) to see those."
   ]
  },
  {
   "cell_type": "markdown",
   "metadata": {},
   "source": [
    "## Options and configuration\n",
    "\n",
    "### Command-line\n",
    "\n",
    "```bash\n",
    "smartrappy [OPTIONS] path/to/your/project\n",
    "```\n",
    "\n",
    "### Arguments\n",
    "\n",
    "- `path/to/your/project`: Path to the Python project directory to analyse (required)\n",
    "\n",
    "### Options\n",
    "\n",
    "- `-o, --output PATH`: Output path for the analysis files (without extension)\n",
    "- `-f, --format [console|graphviz|mermaid|json]`: Output format (default: console)\n",
    "- `--all-formats`: Generate all output formats. Because why shouldn't you have it all?\n",
    "- `-h, --help`: Show help message\n",
    "- `--internal`: Show only internal code dependencies. (default: false)\n",
    "- `--version`: Show version information\n",
    "\n",
    "### Output formats\n",
    "\n",
    "- `console`: Output in terminal (default)\n",
    "- `graphviz`: Generate Graphviz visualisation, saved as a PDF\n",
    "- `mermaid`: Generate Mermaid diagram, which can be embedded in Markdown\n",
    "- `json`: Generate JSON representation, printed to the terminal if no output path is specified\n",
    "\n",
    "By default, outputs are stored in the directory from where the `smartrappy` command is run."
   ]
  },
  {
   "cell_type": "markdown",
   "metadata": {},
   "source": [
    "## Requirements\n",
    "\n",
    "You can find a full list of requirements in the [pyproject.toml](https://github.com/aeturrell/smartrappy/blob/main/pyproject.toml) file.\n",
    "\n",
    "This package also requires that you have [GraphViz](https://graphviz.org/) installed."
   ]
  },
  {
   "cell_type": "markdown",
   "metadata": {},
   "source": [
    "## License\n",
    "\n",
    "Distributed under the terms of the [MIT license](https://opensource.org/licenses/MIT), *smartrappy* is free and open source software.\n",
    "\n",
    "## Issues\n",
    "\n",
    "If you encounter any problems, please [file an issue](https://github.com/aeturrell/smartrappy/issues) along with a detailed description."
   ]
  }
 ],
 "metadata": {
  "kernelspec": {
   "display_name": ".venv",
   "language": "python",
   "name": "python3"
  },
  "language_info": {
   "codemirror_mode": {
    "name": "ipython",
    "version": 3
   },
   "file_extension": ".py",
   "mimetype": "text/x-python",
   "name": "python",
   "nbconvert_exporter": "python",
   "pygments_lexer": "ipython3",
   "version": "3.12.0"
  }
 },
 "nbformat": 4,
 "nbformat_minor": 4
}
